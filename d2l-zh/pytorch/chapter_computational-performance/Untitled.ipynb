{
 "cells": [
  {
   "cell_type": "code",
   "execution_count": null,
   "id": "76add346-1de8-474d-801f-1c3502c62e52",
   "metadata": {},
   "outputs": [],
   "source": []
  }
 ],
 "metadata": {
  "kernelspec": {
   "display_name": "",
   "name": ""
  },
  "language_info": {
   "name": ""
  }
 },
 "nbformat": 4,
 "nbformat_minor": 5
}
